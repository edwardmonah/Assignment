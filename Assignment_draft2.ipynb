{
 "cells": [
  {
   "cell_type": "markdown",
   "metadata": {},
   "source": [
    "# COVID-19 Dashboard"
   ]
  },
  {
   "cell_type": "markdown",
   "metadata": {},
   "source": [
    "This dashboard shows the latest data on COVID-19(Coronavirus), regarding how it is affecting the UK."
   ]
  },
  {
   "cell_type": "code",
   "execution_count": 2,
   "metadata": {},
   "outputs": [],
   "source": [
    "from uk_covid19 import Cov19API\n",
    "import matplotlib.pyplot as plt\n",
    "import pandas as pd\n",
    "import json\n",
    "import matplotlib.animation as animation\n",
    "from matplotlib import style\n",
    "import ipywidgets as wdg\n",
    "from datetime import datetime\n",
    "from IPython.display import display\n",
    "output=wdg.Output()\n",
    "\n",
    "style.use('dark_background')\n",
    "plt.rcParams['figure.dpi'] = 100"
   ]
  },
  {
   "cell_type": "markdown",
   "metadata": {},
   "source": [
    "The purpose of this graph is to show cases that can be described as serious. The two types of cases seen on the graph are death, and cases requiring hospitalisation. You can select either of these options on from the list below to view the data seperately. "
   ]
  },
  {
   "cell_type": "code",
   "execution_count": 3,
   "metadata": {},
   "outputs": [
    {
     "data": {
      "application/vnd.jupyter.widget-view+json": {
       "model_id": "8a4edd60d7404b8988b02245870f036f",
       "version_major": 2,
       "version_minor": 0
      },
      "text/plain": [
       "Button(button_style='info', description='UPDATE', style=ButtonStyle(), tooltip='Refreshes the graph with the l…"
      ]
     },
     "metadata": {},
     "output_type": "display_data"
    },
    {
     "data": {
      "application/vnd.jupyter.widget-view+json": {
       "model_id": "c31f422091a749fca228721b236a5bce",
       "version_major": 2,
       "version_minor": 0
      },
      "text/plain": [
       "Output()"
      ]
     },
     "metadata": {},
     "output_type": "display_data"
    },
    {
     "data": {
      "application/vnd.jupyter.widget-view+json": {
       "model_id": "3d295af24e4949c28bd339dbbcf4948b",
       "version_major": 2,
       "version_minor": 0
      },
      "text/plain": [
       "SelectMultiple(description='Show: ', index=(0, 1), options=('hospitalCases', 'deaths'), rows=2, value=('hospit…"
      ]
     },
     "metadata": {},
     "output_type": "display_data"
    },
    {
     "data": {
      "application/vnd.jupyter.widget-view+json": {
       "model_id": "2133ac9459b84f07b48787ab31abb949",
       "version_major": 2,
       "version_minor": 0
      },
      "text/plain": [
       "Output()"
      ]
     },
     "metadata": {},
     "output_type": "display_data"
    }
   ],
   "source": [
    "#load saved data\n",
    "with open(\"seriouscases.json\", \"rt\") as INFILE:\n",
    "    data=json.load(INFILE)\n",
    "\n",
    "#define key functions\n",
    "def parse_date(datestring):\n",
    "    \"\"\" Convert a date string into a pandas datetime object \"\"\"\n",
    "    return pd.to_datetime(datestring, format=\"%Y-%m-%d\")\n",
    "\n",
    "def convert_date(datestring):\n",
    "    #Convert a date string into a pandas datetime object\n",
    "    return pd.to_datetime(datestring, format=\"%Y-%m-%d\")\n",
    "\n",
    "def wrangledata(x):\n",
    "    global seriouscasesdf\n",
    "    #wrangle dates\n",
    "    datalist=x['data']\n",
    "    dates=[dictionary['date'] for dictionary in datalist]\n",
    "    dates.sort()\n",
    "    startdate=parse_date(dates[0])\n",
    "    enddate=parse_date(dates[-1])\n",
    "    #print(startdate, ' to ', enddate)\n",
    "    \n",
    "    #make dataframe\n",
    "    index=pd.date_range(startdate, enddate, freq='D')\n",
    "    seriouscasesdf=pd.DataFrame(index=index, columns=['hospitalCases', 'deaths'])\n",
    "\n",
    "    #fill dataframe\n",
    "    for entry in datalist: \n",
    "        date=convert_date(entry['date'])\n",
    "        for column in ['hospitalCases', 'deaths']:\n",
    "            if pd.isna(seriouscasesdf.loc[date, column]): \n",
    "                value = float(entry[column]) if entry[column]!=None else 0.0\n",
    "                seriouscasesdf.loc[date, column]=value\n",
    "    seriouscasesdf.fillna(0.0, inplace=True)\n",
    "    return(seriouscasesdf)\n",
    "\n",
    "#update implementation\n",
    "def access_api():\n",
    "    #this will overwrite the previous json file\n",
    "    try:\n",
    "        global data\n",
    "        filters = [\n",
    "            'areaType=overview'\n",
    "        ]\n",
    "\n",
    "        structure = {\n",
    "            \"date\": \"date\",\n",
    "            \"hospitalCases\":\"hospitalCases\",\n",
    "            \"deaths\":\"newDeaths28DaysByPublishDate\"\n",
    "        }\n",
    "\n",
    "        api = Cov19API(filters=filters, structure=structure)\n",
    "        seriouscases=api.get_json()\n",
    "\n",
    "        with open(\"seriouscases.json\", \"wt\") as OUTF:\n",
    "            json.dump(seriouscases, OUTF)\n",
    "        with open(\"seriouscases.json\", \"rt\") as INFILE:\n",
    "            data=json.load(INFILE)\n",
    "        return(data)\n",
    "\n",
    "    except:\n",
    "        with output:\n",
    "            print('Error getting new data from PHE')\n",
    "\n",
    "\n",
    "def api_button_callback(button):\n",
    "    apidata=access_api()\n",
    "    apidata2=access_api2()\n",
    "    global seriouscasesdf\n",
    "    global cumulativesdf\n",
    "    seriouscasesdf=wrangledata(apidata)\n",
    "    cumulativesdf=wrangledata2(apidata2)\n",
    "    refresh_graph()\n",
    "    refresh_graph2()\n",
    "    apibutton.icon=\"check\"\n",
    "    apibutton.disabled=True\n",
    "\n",
    "\n",
    "apibutton=wdg.Button(\n",
    "    description='UPDATE',\n",
    "    disabled=False,\n",
    "    button_style='info',\n",
    "    tooltip=\"Refreshes the graph with the latest data from Public Health England\",\n",
    "    icon=''\n",
    ")\n",
    "\n",
    "\n",
    "apibutton.on_click(api_button_callback)\n",
    "display(apibutton)\n",
    "display(output)\n",
    "\n",
    "wrangledata(data)\n",
    "\n",
    "#plot graph no.1\n",
    "\n",
    "def refresh_graph():\n",
    "    Case.disabled=True\n",
    "    Case.disabled=False\n",
    "    \n",
    "\n",
    "def plot_serio(x):\n",
    "    ncols=len(x)\n",
    "    if ncols>0:\n",
    "        a=seriouscasesdf[list(x)].plot()\n",
    "        a.grid(color='grey',linewidth=0.5)\n",
    "    else:\n",
    "        # these messages will be printed in no column is selected\n",
    "        print(\"Click to select data for graph\")\n",
    "        print(\"(CTRL-Click to select more than one category)\")\n",
    "\n",
    "Case=wdg.SelectMultiple(\n",
    "    options=['hospitalCases','deaths'],\n",
    "    value=['hospitalCases','deaths'],\n",
    "    rows=2,\n",
    "    description='Show: ',\n",
    "    disabled=False,\n",
    ")\n",
    "    \n",
    "graph=wdg.interactive_output(plot_serio, {'x': Case})\n",
    "display(Case, graph)\n",
    "\n"
   ]
  },
  {
   "cell_type": "markdown",
   "metadata": {},
   "source": [
    "Here you can select between viewing cumulative totals of: cases, hospital admissions, and deaths as they have increased since the start of the pandemic. "
   ]
  },
  {
   "cell_type": "code",
   "execution_count": 160,
   "metadata": {},
   "outputs": [
    {
     "data": {
      "application/vnd.jupyter.widget-view+json": {
       "model_id": "30e53b4dcf41490fb6b0e5815ee73fbd",
       "version_major": 2,
       "version_minor": 0
      },
      "text/plain": [
       "Dropdown(description='Show: ', index=2, options=('CumulativeCases', 'CumulativeAdmissions', 'CumulativeDeaths'…"
      ]
     },
     "metadata": {},
     "output_type": "display_data"
    },
    {
     "data": {
      "application/vnd.jupyter.widget-view+json": {
       "model_id": "689643dd026c4498afa375a6553f4750",
       "version_major": 2,
       "version_minor": 0
      },
      "text/plain": [
       "Output()"
      ]
     },
     "metadata": {},
     "output_type": "display_data"
    }
   ],
   "source": [
    "        \n",
    "def access_api2():\n",
    "    #this will overwrite the previous json file\n",
    "    try: \n",
    "        filters = [\n",
    "            'areaType=overview'\n",
    "        ]\n",
    "\n",
    "        structure = {\n",
    "            \"date\": \"date\",\n",
    "            \"CumulativeCases\":\"cumCasesByPublishDate\",\n",
    "            \"CumulativeAdmissions\":\"cumAdmissions\",\n",
    "            \"CumulativeDeaths\":\"cumDeaths28DaysByDeathDate\"\n",
    "        }\n",
    "\n",
    "        api = Cov19API(filters=filters, structure=structure)\n",
    "        cumulatives=api.get_json()\n",
    "\n",
    "        with open(\"cumulatives.json\", \"wt\") as OUTF:\n",
    "            json.dump(cumulatives, OUTF)\n",
    "        with open(\"cumulatives.json\", \"rt\") as INFILE:\n",
    "            data2=json.load(INFILE)\n",
    "\n",
    "        return(data2)\n",
    "    except:\n",
    "        with output:\n",
    "            print('Error getting new data from PHE')\n",
    "\n",
    "\n",
    "def wrangledata2(x):\n",
    "    global cumulativesdf\n",
    "    #wrangle dates\n",
    "    datalist=x['data']\n",
    "    dates=[dictionary['date'] for dictionary in datalist]\n",
    "    dates.sort()\n",
    "    startdate=parse_date(dates[0])\n",
    "    enddate=parse_date(dates[-1])\n",
    "    #print(startdate, ' to ', enddate)\n",
    "    \n",
    "    #make dataframe\n",
    "    index=pd.date_range(startdate, enddate, freq='D')\n",
    "    cumulativesdf=pd.DataFrame(index=index, columns=['CumulativeCases','CumulativeAdmissions','CumulativeDeaths'])\n",
    "\n",
    "    #fill dataframe\n",
    "    for entry in datalist: \n",
    "        date=convert_date(entry['date'])\n",
    "        for column in ['CumulativeCases','CumulativeAdmissions','CumulativeDeaths']:\n",
    "            if pd.isna(cumulativesdf.loc[date, column]): \n",
    "                value = float(entry[column]) if entry[column]!=None else 0.0\n",
    "                cumulativesdf.loc[date, column]=value\n",
    "    cumulativesdf.fillna(0.0, inplace=True)\n",
    "    return(cumulativesdf)\n",
    "\n",
    "colour={'CumulativeCases':'lightseagreen','CumulativeAdmissions':'khaki','CumulativeDeaths':'lightcoral'\n",
    "       }\n",
    "thickness={'CumulativeCases':4,'CumulativeAdmissions':4,'CumulativeDeaths':4\n",
    "       }\n",
    "Title={'CumulativeCases':'Cumulative Cases','CumulativeAdmissions':'Cumulative Admissions','CumulativeDeaths':'Cumulative Deaths'\n",
    "       }\n",
    "\n",
    "with open(\"cumulatives.json\", \"rt\") as INFILE:\n",
    "    data2=json.load(INFILE)\n",
    "    \n",
    "wrangledata2(data2)\n",
    "\n",
    "def plot_cumu(x):\n",
    "    ax2=cumulativesdf[x].plot(color=(colour[x]),linewidth=(thickness[x]))\n",
    "    ax2.set_title(Title[x], fontsize=20)\n",
    "    ax2.grid(color='grey',linewidth=0.5)\n",
    "    \n",
    "Selection=wdg.Dropdown(\n",
    "    options=['CumulativeCases','CumulativeAdmissions', 'CumulativeDeaths'],\n",
    "    value='CumulativeDeaths',\n",
    "    description='Show: ',\n",
    "    disabled=False,\n",
    ")\n",
    "\n",
    "def refresh_graph2():\n",
    "    current=Selection.value\n",
    "    if current==Selection.options[0]:\n",
    "        other=Selection.options[1]\n",
    "    else:\n",
    "        other=Selection.options[0]\n",
    "    Selection.value=other # forces the redraw\n",
    "    Selection.value=current\n",
    "\n",
    "graph=wdg.interactive_output(plot_cumu, {'x': Selection})\n",
    "display(Selection, graph)\n"
   ]
  },
  {
   "cell_type": "code",
   "execution_count": null,
   "metadata": {},
   "outputs": [],
   "source": []
  },
  {
   "cell_type": "code",
   "execution_count": null,
   "metadata": {},
   "outputs": [],
   "source": []
  },
  {
   "cell_type": "markdown",
   "metadata": {},
   "source": [
    "This Dashboard was made by Edward Monah based on code from Fabrizio Smeraldi"
   ]
  },
  {
   "cell_type": "markdown",
   "metadata": {},
   "source": [
    "UK Government data published by Public Health England has been used."
   ]
  },
  {
   "cell_type": "code",
   "execution_count": null,
   "metadata": {},
   "outputs": [],
   "source": []
  }
 ],
 "metadata": {
  "kernelspec": {
   "display_name": "Python 3",
   "language": "python",
   "name": "python3"
  },
  "language_info": {
   "codemirror_mode": {
    "name": "ipython",
    "version": 3
   },
   "file_extension": ".py",
   "mimetype": "text/x-python",
   "name": "python",
   "nbconvert_exporter": "python",
   "pygments_lexer": "ipython3",
   "version": "3.7.4"
  },
  "voila": {
   "theme": "dark"
  }
 },
 "nbformat": 4,
 "nbformat_minor": 4
}
